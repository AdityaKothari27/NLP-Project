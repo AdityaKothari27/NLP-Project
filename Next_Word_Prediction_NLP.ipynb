{
  "cells": [
    {
      "cell_type": "markdown",
      "metadata": {
        "id": "8z7Aki4hAXmD"
      },
      "source": [
        "Members -\n",
        "\n",
        "Aditya Kothari - I028"
      ]
    },
    {
      "cell_type": "code",
      "execution_count": 8,
      "metadata": {
        "id": "u_LCt2EZAfoj"
      },
      "outputs": [],
      "source": [
        "#Importing necessary libraries and modules\n",
        "import numpy as np\n",
        "from tensorflow.keras.models import Sequential\n",
        "from tensorflow.keras.layers import Embedding, LSTM, Bidirectional, Dropout, Dense\n",
        "from tensorflow.keras.preprocessing.sequence import pad_sequences\n",
        "from tensorflow.keras.preprocessing.text import Tokenizer\n",
        "import tensorflow as tf"
      ]
    },
    {
      "cell_type": "code",
      "execution_count": 3,
      "metadata": {
        "id": "n4AUnkmRAkrH"
      },
      "outputs": [],
      "source": [
        "#Reading text data from file\n",
        "file = \"/content/text.txt\"\n",
        "with open(file, \"r\") as f:\n",
        "    mytext = f.read()"
      ]
    },
    {
      "cell_type": "code",
      "execution_count": 4,
      "metadata": {
        "id": "wExygBNkAkks"
      },
      "outputs": [],
      "source": [
        "#Tokenizing the text data and determine the vocabulary size\n",
        "mytokenizer = Tokenizer()\n",
        "mytokenizer.fit_on_texts([mytext])\n",
        "total_words = len(mytokenizer.word_index) + 1"
      ]
    },
    {
      "cell_type": "markdown",
      "metadata": {
        "id": "xpe4tHHoHOl5"
      },
      "source": [
        "Stop word removal, lemmatization and stemming weren't used to keep the context of the data and words like to, the etc. would also be used for prediction."
      ]
    },
    {
      "cell_type": "code",
      "execution_count": 5,
      "metadata": {
        "id": "iuls9ZUMAkc7"
      },
      "outputs": [],
      "source": [
        "#Generating input sequences and their corresponding outputs\n",
        "my_input_sequences = []\n",
        "for line in mytext.split('\\n'):\n",
        "    token_list = mytokenizer.texts_to_sequences([line])[0]\n",
        "    for i in range(1, len(token_list)):\n",
        "        my_n_gram_sequence = token_list[:i+1]\n",
        "        my_input_sequences.append(my_n_gram_sequence)"
      ]
    },
    {
      "cell_type": "code",
      "execution_count": 6,
      "metadata": {
        "id": "6XqqqCepAp99"
      },
      "outputs": [],
      "source": [
        "#Padding the input sequences to ensure uniform length\n",
        "max_sequence_len = max([len(seq) for seq in my_input_sequences])\n",
        "input_sequences = np.array(pad_sequences(my_input_sequences, maxlen=max_sequence_len, padding='pre'))"
      ]
    },
    {
      "cell_type": "code",
      "execution_count": 9,
      "metadata": {
        "id": "RaVMppnzAp67"
      },
      "outputs": [],
      "source": [
        "#Preparing input and output data for the model\n",
        "X = input_sequences[:, :-1]\n",
        "y = input_sequences[:, -1]\n",
        "y = np.array(tf.keras.utils.to_categorical(y, num_classes=total_words))"
      ]
    },
    {
      "cell_type": "code",
      "execution_count": 27,
      "metadata": {
        "colab": {
          "base_uri": "https://localhost:8080/"
        },
        "id": "DMfsf_E2Ap3-",
        "outputId": "451f028a-d22e-4f20-cdeb-aa132ec563ed"
      },
      "outputs": [
        {
          "name": "stdout",
          "output_type": "stream",
          "text": [
            "Model: \"sequential_10\"\n",
            "_________________________________________________________________\n",
            " Layer (type)                Output Shape              Param #   \n",
            "=================================================================\n",
            " embedding_10 (Embedding)    (None, 82, 100)           59900     \n",
            "                                                                 \n",
            " bidirectional_10 (Bidirect  (None, 82, 400)           481600    \n",
            " ional)                                                          \n",
            "                                                                 \n",
            " lstm_21 (LSTM)              (None, 378)               1177848   \n",
            "                                                                 \n",
            " dropout_10 (Dropout)        (None, 378)               0         \n",
            "                                                                 \n",
            " dense_9 (Dense)             (None, 599)               227021    \n",
            "                                                                 \n",
            "=================================================================\n",
            "Total params: 1946369 (7.42 MB)\n",
            "Trainable params: 1946369 (7.42 MB)\n",
            "Non-trainable params: 0 (0.00 Byte)\n",
            "_________________________________________________________________\n",
            "None\n"
          ]
        }
      ],
      "source": [
        "#Defining the LSTM model architecture\n",
        "model = Sequential()\n",
        "model.add(Embedding(total_words, 100, input_length=max_sequence_len-1))\n",
        "model.add(Bidirectional(LSTM(200, return_sequences=True)))\n",
        "model.add(LSTM(378))\n",
        "model.add(Dropout(0.2))\n",
        "model.add(Dense(total_words, activation='softmax'))\n",
        "print(model.summary())"
      ]
    },
    {
      "cell_type": "code",
      "execution_count": 28,
      "metadata": {
        "id": "m2g0dwSBAzSL"
      },
      "outputs": [],
      "source": [
        "#Compiling the model with appropriate loss function and optimizer\n",
        "model.compile(loss='categorical_crossentropy', optimizer='adam', metrics=['accuracy'])"
      ]
    },
    {
      "cell_type": "code",
      "execution_count": 29,
      "metadata": {
        "colab": {
          "base_uri": "https://localhost:8080/"
        },
        "id": "2Ws76Br2ARhl",
        "outputId": "427f8591-00c3-477f-a9af-fd9ceab2cc3f"
      },
      "outputs": [
        {
          "name": "stdout",
          "output_type": "stream",
          "text": [
            "Epoch 1/50\n",
            "43/43 [==============================] - 38s 110ms/step - loss: 6.1639 - accuracy: 0.0343\n",
            "Epoch 2/50\n",
            "43/43 [==============================] - 4s 90ms/step - loss: 5.8039 - accuracy: 0.0547\n",
            "Epoch 3/50\n",
            "43/43 [==============================] - 3s 69ms/step - loss: 5.7331 - accuracy: 0.0576\n",
            "Epoch 4/50\n",
            "43/43 [==============================] - 3s 59ms/step - loss: 5.6013 - accuracy: 0.0576\n",
            "Epoch 5/50\n",
            "43/43 [==============================] - 2s 49ms/step - loss: 5.4408 - accuracy: 0.0554\n",
            "Epoch 6/50\n",
            "43/43 [==============================] - 2s 35ms/step - loss: 5.3296 - accuracy: 0.0693\n",
            "Epoch 7/50\n",
            "43/43 [==============================] - 1s 30ms/step - loss: 5.2080 - accuracy: 0.0780\n",
            "Epoch 8/50\n",
            "43/43 [==============================] - 2s 44ms/step - loss: 5.0366 - accuracy: 0.0926\n",
            "Epoch 9/50\n",
            "43/43 [==============================] - 1s 34ms/step - loss: 4.8411 - accuracy: 0.0985\n",
            "Epoch 10/50\n",
            "43/43 [==============================] - 1s 25ms/step - loss: 4.6361 - accuracy: 0.1189\n",
            "Epoch 11/50\n",
            "43/43 [==============================] - 1s 28ms/step - loss: 4.4231 - accuracy: 0.1437\n",
            "Epoch 12/50\n",
            "43/43 [==============================] - 1s 30ms/step - loss: 4.2037 - accuracy: 0.1546\n",
            "Epoch 13/50\n",
            "43/43 [==============================] - 1s 23ms/step - loss: 4.0091 - accuracy: 0.1853\n",
            "Epoch 14/50\n",
            "43/43 [==============================] - 1s 21ms/step - loss: 3.7938 - accuracy: 0.1999\n",
            "Epoch 15/50\n",
            "43/43 [==============================] - 1s 30ms/step - loss: 3.6003 - accuracy: 0.2276\n",
            "Epoch 16/50\n",
            "43/43 [==============================] - 1s 23ms/step - loss: 3.4057 - accuracy: 0.2407\n",
            "Epoch 17/50\n",
            "43/43 [==============================] - 1s 24ms/step - loss: 3.2249 - accuracy: 0.2699\n",
            "Epoch 18/50\n",
            "43/43 [==============================] - 1s 28ms/step - loss: 3.0391 - accuracy: 0.3005\n",
            "Epoch 19/50\n",
            "43/43 [==============================] - 1s 27ms/step - loss: 2.9504 - accuracy: 0.3078\n",
            "Epoch 20/50\n",
            "43/43 [==============================] - 1s 30ms/step - loss: 2.7349 - accuracy: 0.3581\n",
            "Epoch 21/50\n",
            "43/43 [==============================] - 1s 24ms/step - loss: 2.5072 - accuracy: 0.4063\n",
            "Epoch 22/50\n",
            "43/43 [==============================] - 1s 29ms/step - loss: 2.2880 - accuracy: 0.4530\n",
            "Epoch 23/50\n",
            "43/43 [==============================] - 1s 26ms/step - loss: 2.0667 - accuracy: 0.5157\n",
            "Epoch 24/50\n",
            "43/43 [==============================] - 1s 23ms/step - loss: 1.9168 - accuracy: 0.5529\n",
            "Epoch 25/50\n",
            "43/43 [==============================] - 1s 21ms/step - loss: 1.7396 - accuracy: 0.6032\n",
            "Epoch 26/50\n",
            "43/43 [==============================] - 1s 23ms/step - loss: 1.5513 - accuracy: 0.6674\n",
            "Epoch 27/50\n",
            "43/43 [==============================] - 1s 21ms/step - loss: 1.3909 - accuracy: 0.7097\n",
            "Epoch 28/50\n",
            "43/43 [==============================] - 1s 21ms/step - loss: 1.2540 - accuracy: 0.7629\n",
            "Epoch 29/50\n",
            "43/43 [==============================] - 1s 24ms/step - loss: 1.0717 - accuracy: 0.8169\n",
            "Epoch 30/50\n",
            "43/43 [==============================] - 1s 23ms/step - loss: 0.9328 - accuracy: 0.8446\n",
            "Epoch 31/50\n",
            "43/43 [==============================] - 1s 25ms/step - loss: 0.8073 - accuracy: 0.8651\n",
            "Epoch 32/50\n",
            "43/43 [==============================] - 1s 23ms/step - loss: 0.7195 - accuracy: 0.8891\n",
            "Epoch 33/50\n",
            "43/43 [==============================] - 1s 27ms/step - loss: 0.6605 - accuracy: 0.9044\n",
            "Epoch 34/50\n",
            "43/43 [==============================] - 1s 21ms/step - loss: 0.5562 - accuracy: 0.9271\n",
            "Epoch 35/50\n",
            "43/43 [==============================] - 1s 26ms/step - loss: 0.4722 - accuracy: 0.9438\n",
            "Epoch 36/50\n",
            "43/43 [==============================] - 1s 23ms/step - loss: 0.4075 - accuracy: 0.9555\n",
            "Epoch 37/50\n",
            "43/43 [==============================] - 1s 21ms/step - loss: 0.3408 - accuracy: 0.9643\n",
            "Epoch 38/50\n",
            "43/43 [==============================] - 1s 21ms/step - loss: 0.2854 - accuracy: 0.9730\n",
            "Epoch 39/50\n",
            "43/43 [==============================] - 1s 23ms/step - loss: 0.2550 - accuracy: 0.9701\n",
            "Epoch 40/50\n",
            "43/43 [==============================] - 1s 24ms/step - loss: 0.2152 - accuracy: 0.9774\n",
            "Epoch 41/50\n",
            "43/43 [==============================] - 1s 22ms/step - loss: 0.2010 - accuracy: 0.9759\n",
            "Epoch 42/50\n",
            "43/43 [==============================] - 1s 34ms/step - loss: 0.1769 - accuracy: 0.9788\n",
            "Epoch 43/50\n",
            "43/43 [==============================] - 1s 23ms/step - loss: 0.1642 - accuracy: 0.9825\n",
            "Epoch 44/50\n",
            "43/43 [==============================] - 1s 23ms/step - loss: 0.1495 - accuracy: 0.9825\n",
            "Epoch 45/50\n",
            "43/43 [==============================] - 1s 21ms/step - loss: 0.1352 - accuracy: 0.9818\n",
            "Epoch 46/50\n",
            "43/43 [==============================] - 1s 21ms/step - loss: 0.1241 - accuracy: 0.9840\n",
            "Epoch 47/50\n",
            "43/43 [==============================] - 1s 21ms/step - loss: 0.1194 - accuracy: 0.9818\n",
            "Epoch 48/50\n",
            "43/43 [==============================] - 1s 23ms/step - loss: 0.1099 - accuracy: 0.9840\n",
            "Epoch 49/50\n",
            "43/43 [==============================] - 1s 25ms/step - loss: 0.1035 - accuracy: 0.9825\n",
            "Epoch 50/50\n",
            "43/43 [==============================] - 1s 23ms/step - loss: 0.0909 - accuracy: 0.9840\n"
          ]
        },
        {
          "data": {
            "text/plain": [
              "<keras.src.callbacks.History at 0x79327c0e9360>"
            ]
          },
          "execution_count": 29,
          "metadata": {},
          "output_type": "execute_result"
        }
      ],
      "source": [
        "#Training the model with the prepared data\n",
        "model.fit(X, y, epochs=50, verbose=1)"
      ]
    },
    {
      "cell_type": "markdown",
      "metadata": {
        "id": "15tSvKveGx9R"
      },
      "source": [
        "98.4% accuracy achieved\n",
        "\n",
        "It can be improved by increasing the number of epochs but that would be a result of overfitting.\n",
        "\n",
        "98.98% accuracy was achieved by runnning 100 epochs but that led to overfitting, therefore the no. of epochs were reduced."
      ]
    },
    {
      "cell_type": "code",
      "execution_count": 26,
      "metadata": {
        "colab": {
          "base_uri": "https://localhost:8080/"
        },
        "id": "Q9n8VFROCw-u",
        "outputId": "e30012b4-d996-4525-a0bd-2c4394ddbc57"
      },
      "outputs": [
        {
          "name": "stdout",
          "output_type": "stream",
          "text": [
            "Enter the word: India\n",
            "[6]\n",
            "1/1 [==============================] - 0s 23ms/step\n",
            "[6, 5]\n",
            "1/1 [==============================] - 0s 25ms/step\n",
            "[6, 5, 1]\n",
            "1/1 [==============================] - 0s 22ms/step\n",
            "[6, 5, 1, 9]\n",
            "1/1 [==============================] - 0s 21ms/step\n",
            "India and the us have\n"
          ]
        }
      ],
      "source": [
        "#Defining the initial input text for word prediction\n",
        "input_text = input(\"Enter the word: \")\n",
        "\n",
        "#Setting the number of words to predict\n",
        "predict_next_words = 4\n",
        "\n",
        "#Generating a sequence of predicted words based on the trained model\n",
        "for _ in range(predict_next_words):\n",
        "    token_list = mytokenizer.texts_to_sequences([input_text])[0]\n",
        "    print(token_list)\n",
        "    token_list = pad_sequences([token_list], maxlen=max_sequence_len-1, padding='pre')\n",
        "    predicted = np.argmax(model.predict(token_list), axis=-1)\n",
        "    output_word = \"\"\n",
        "    for word, index in mytokenizer.word_index.items():\n",
        "        if index == predicted:\n",
        "            output_word = word\n",
        "            break\n",
        "    input_text += \" \" + output_word\n",
        "\n",
        "#Printing the generated text based on the predicted words\n",
        "print(input_text)"
      ]
    }
  ],
  "metadata": {
    "accelerator": "GPU",
    "colab": {
      "gpuType": "T4",
      "provenance": []
    },
    "kernelspec": {
      "display_name": "Python 3",
      "name": "python3"
    },
    "language_info": {
      "name": "python"
    }
  },
  "nbformat": 4,
  "nbformat_minor": 0
}
